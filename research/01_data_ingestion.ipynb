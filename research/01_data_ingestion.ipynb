{
 "cells": [
  {
   "cell_type": "code",
   "execution_count": 6,
   "id": "a76ccd09",
   "metadata": {},
   "outputs": [
    {
     "data": {
      "text/plain": [
       "'/home/febin/MLOps-AWS-cancer-prediction-system'"
      ]
     },
     "execution_count": 6,
     "metadata": {},
     "output_type": "execute_result"
    }
   ],
   "source": [
    "import os\n",
    "%pwd"
   ]
  },
  {
   "cell_type": "markdown",
   "id": "74202580",
   "metadata": {},
   "source": [
    "## DataIngestion Entity for storing the configurations."
   ]
  },
  {
   "cell_type": "code",
   "execution_count": 7,
   "id": "af4e8a98",
   "metadata": {},
   "outputs": [],
   "source": [
    "from dataclasses import dataclass\n",
    "from pathlib import Path\n",
    "\n",
    "\n",
    "@dataclass(frozen=True)\n",
    "class DataIngestionConfig:\n",
    "    root_dir: Path\n",
    "    source_url: str\n",
    "    local_data_file: Path\n",
    "    unzip_dir: Path"
   ]
  },
  {
   "cell_type": "code",
   "execution_count": 8,
   "id": "4c5f8012",
   "metadata": {},
   "outputs": [],
   "source": [
    "from src.cancer_prediction.constants import *\n",
    "from src.cancer_prediction.utils import read_yaml, create_directories\n",
    "\n",
    "class ConfigurationManager:\n",
    "\n",
    "    def __init__(\n",
    "            self,\n",
    "            config_file_path=CONFIG_FILE_PATH,\n",
    "            params_file_path=PARAMS_FILE_PATH):\n",
    "            \n",
    "        self.config=read_yaml(config_file_path)\n",
    "        self.params=read_yaml(params_file_path)\n",
    "\n",
    "        create_directories([self.config.artifacts_root])\n",
    "\n",
    "\n",
    "    def get_data_ingestion_config(self) -> DataIngestionConfig:\n",
    "        config = self.config.data_ingestion\n",
    "\n",
    "        create_directories([config.root_dir])\n",
    "\n",
    "        data_ingestion_config = DataIngestionConfig(\n",
    "            root_dir=config.root_dir,\n",
    "            source_url=config.source_url,\n",
    "            local_data_file=config.local_data_file,\n",
    "            unzip_dir=config.unzip_dir\n",
    "        )\n",
    "\n",
    "        return data_ingestion_config"
   ]
  },
  {
   "cell_type": "code",
   "execution_count": 9,
   "id": "a2499691",
   "metadata": {},
   "outputs": [],
   "source": [
    "import os\n",
    "import gdown\n",
    "import zipfile\n",
    "from src.cancer_prediction import logger\n",
    "from src.cancer_prediction.utils import get_size"
   ]
  },
  {
   "cell_type": "code",
   "execution_count": 13,
   "id": "4c071f7a",
   "metadata": {},
   "outputs": [],
   "source": [
    "class DataIngestion:\n",
    "\n",
    "    def __init__(self, config: DataIngestionConfig):\n",
    "        self.config = config\n",
    "\n",
    "    \n",
    "    def download_file(self) -> None:\n",
    "\n",
    "        try:\n",
    "\n",
    "            dataset_url = self.config.source_url\n",
    "            zip_download_dir = self.config.local_data_file\n",
    "            os.makedirs(self.config.root_dir, exist_ok=True)\n",
    "\n",
    "            file_id = dataset_url.split(\"/\")[-2]\n",
    "            logger.info(f\"Downloading file from: {dataset_url} into {zip_download_dir}\")\n",
    "            prefix = \"https://drive.google.com/uc?/export=download&id=\"\n",
    "\n",
    "            gdown.download(f\"{prefix}{file_id}\", zip_download_dir, quiet=False)\n",
    "            logger.info(f\"Downloaded file: {zip_download_dir}\")\n",
    "\n",
    "        except Exception as e:\n",
    "            raise e\n",
    "        \n",
    "\n",
    "    def extract_zipfile(self) -> None:\n",
    "\n",
    "        unzip_path = self.config.unzip_dir\n",
    "        os.makedirs(unzip_path, exist_ok=True)\n",
    "\n",
    "        with zipfile.ZipFile(self.config.local_data_file, 'r') as zip_ref:\n",
    "            zip_ref.extractall(unzip_path)\n",
    "            logger.info(f\"Extracted file into: {unzip_path}\")"
   ]
  },
  {
   "cell_type": "code",
   "execution_count": 14,
   "id": "ffc548d5",
   "metadata": {},
   "outputs": [
    {
     "name": "stdout",
     "output_type": "stream",
     "text": [
      "2025-04-07 13:19:41,776 - INFO __init__ - yaml file: config/config.yaml loaded successfully\n",
      "2025-04-07 13:19:41,782 - INFO __init__ - yaml file: params.yaml loaded successfully\n",
      "2025-04-07 13:19:41,787 - INFO __init__ - created directory at: artifacts\n",
      "2025-04-07 13:19:41,789 - INFO __init__ - created directory at: artifacts/data_ingestion\n",
      "2025-04-07 13:19:41,794 - INFO 1614880556 - Downloading file from: https://drive.google.com/file/d/12Y2iiwvbCacjv_CjkFiuuZsOOkM2-2fI/view?usp=sharing into artifacts/data_ingestion/data.zip\n"
     ]
    },
    {
     "name": "stderr",
     "output_type": "stream",
     "text": [
      "Downloading...\n",
      "From (original): https://drive.google.com/uc?/export=download&id=12Y2iiwvbCacjv_CjkFiuuZsOOkM2-2fI\n",
      "From (redirected): https://drive.google.com/uc?%2Fexport=download&id=12Y2iiwvbCacjv_CjkFiuuZsOOkM2-2fI&confirm=t&uuid=3bc87b72-d294-4447-b47e-65fd918eb481\n",
      "To: /home/febin/MLOps-AWS-cancer-prediction-system/artifacts/data_ingestion/data.zip\n",
      "100%|██████████| 124M/124M [00:16<00:00, 7.67MB/s] \n"
     ]
    },
    {
     "name": "stdout",
     "output_type": "stream",
     "text": [
      "2025-04-07 13:20:02,884 - INFO 1614880556 - Downloaded file: artifacts/data_ingestion/data.zip\n",
      "2025-04-07 13:20:05,030 - INFO 1614880556 - Extracted file into: artifacts/data_ingestion\n"
     ]
    }
   ],
   "source": [
    "try:\n",
    "    config = ConfigurationManager()\n",
    "    data_ingestion_config = config.get_data_ingestion_config()\n",
    "\n",
    "    data_ingestion = DataIngestion(config=data_ingestion_config)\n",
    "    data_ingestion.download_file()\n",
    "    data_ingestion.extract_zipfile()\n",
    "\n",
    "except Exception as e:\n",
    "    raise e"
   ]
  }
 ],
 "metadata": {
  "kernelspec": {
   "display_name": ".virtualenv",
   "language": "python",
   "name": "python3"
  },
  "language_info": {
   "codemirror_mode": {
    "name": "ipython",
    "version": 3
   },
   "file_extension": ".py",
   "mimetype": "text/x-python",
   "name": "python",
   "nbconvert_exporter": "python",
   "pygments_lexer": "ipython3",
   "version": "3.10.12"
  }
 },
 "nbformat": 4,
 "nbformat_minor": 5
}
